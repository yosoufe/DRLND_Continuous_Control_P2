{
 "cells": [
  {
   "cell_type": "code",
   "execution_count": null,
   "metadata": {},
   "outputs": [],
   "source": [
    "from models import Actor, Critic\n",
    "from DDPG import DDPG_Agent\n",
    "from tools import PlotTool\n",
    "\n",
    "from unityagents import UnityEnvironment\n",
    "import torch\n",
    "device = torch.device(\"cuda:0\" if torch.cuda.is_available() else \"cpu\")\n",
    "\n",
    "\n",
    "\n",
    "import numpy as np\n",
    "import random\n",
    "from collections import deque\n",
    "\n",
    "from tqdm import tqdm_notebook as tqdm\n",
    "from ipywidgets import *\n",
    "from IPython.display import display\n",
    "import matplotlib.pyplot as plt\n",
    "%matplotlib notebook"
   ]
  },
  {
   "cell_type": "markdown",
   "metadata": {},
   "source": [
    "## Load the Enviornment"
   ]
  },
  {
   "cell_type": "code",
   "execution_count": null,
   "metadata": {},
   "outputs": [],
   "source": [
    "env         = UnityEnvironment(file_name=\"../Reacher_Linux_2/Reacher.x86_64\", no_graphics=True)\n",
    "brain_name  = env.brain_names[0]\n",
    "brain       = env.brains[brain_name]\n",
    "env_info    = env.reset(train_mode=True)[brain_name]"
   ]
  },
  {
   "cell_type": "code",
   "execution_count": null,
   "metadata": {},
   "outputs": [],
   "source": [
    "num_agents  = len(env_info.agents)\n",
    "action_size = brain.vector_action_space_size\n",
    "state_size  = len(env_info.vector_observations[0])\n",
    "print(\"state size:\",state_size, \"action size:\", action_size)\n",
    "print(\"state shape: \", env_info.vector_observations.shape)"
   ]
  },
  {
   "cell_type": "markdown",
   "metadata": {},
   "source": [
    "## Train the Agent"
   ]
  },
  {
   "cell_type": "code",
   "execution_count": null,
   "metadata": {},
   "outputs": [],
   "source": [
    "agent = DDPG_Agent(state_size=state_size, \n",
    "                   action_size=action_size, \n",
    "                   actor_model=Actor,\n",
    "                   critic_model=Critic,\n",
    "                   device=device,\n",
    "                   num_agents= num_agents, \n",
    "                   seed=1,\n",
    "                   tau=5e-1,\n",
    "                   batch_size=64,\n",
    "                   discount_factor = 0.99,\n",
    "                   actor_learning_rate=1e-2,\n",
    "                   critic_learning_rate=1e-2)"
   ]
  },
  {
   "cell_type": "code",
   "execution_count": null,
   "metadata": {
    "scrolled": true
   },
   "outputs": [],
   "source": [
    "def ddpg(n_episodes=1000, max_t=300, print_every=100):\n",
    "    scores_deque = deque(maxlen=print_every)\n",
    "    scores = []\n",
    "    score = np.zeros(num_agents)\n",
    "    \n",
    "    # commenting and plotting\n",
    "    desc = Label('Episode {}\\tAverage Score: {:.2f}'.format(0,0))\n",
    "    display(desc)\n",
    "    tqm = tqdm(range(1, n_episodes+1))\n",
    "    for i_episode in tqm:\n",
    "        env_info    = env.reset(train_mode=True)[brain_name]\n",
    "        states      = env_info.vector_observations\n",
    "        agent.reset()\n",
    "        score = 0\n",
    "        for t in range(max_t):\n",
    "            actions  = agent.act(states)\n",
    "            actions = np.clip(actions, -1, 1)\n",
    "            env_info = env.step(actions)[brain_name]\n",
    "            next_state = env_info.vector_observations\n",
    "            reward = env_info.rewards\n",
    "            done = env_info.local_done\n",
    "            agent.step(state      = states,\n",
    "                       action     = actions,\n",
    "                       reward     = reward,\n",
    "                       next_state = next_state, \n",
    "                       done       = done\n",
    "                      )\n",
    "            state = next_state\n",
    "            score = score + np.array(reward)\n",
    "            if np.any(done):\n",
    "                break \n",
    "        plotter.update_plot(score.reshape(1, num_agents))\n",
    "        scores_deque.append(score)\n",
    "        scores.append(score)\n",
    "        score_mean_circular = np.mean(scores_deque)\n",
    "        desc.value = 'Episode {},'.format(i_episode)+ \\\n",
    "                     '\\tMinimum Score: {:.2f},'.format(np.min(scores_deque))+ \\\n",
    "                     '\\tAverage Score: {:.2f},'.format(score_mean_circular)\n",
    "        \n",
    "        \n",
    "        if score_mean_circular > 35:\n",
    "            # enough training\n",
    "            torch.save(agent.actor_local.state_dict(), 'checkpoint_actor.pth')\n",
    "            torch.save(agent.critic_local.state_dict(), 'checkpoint_critic.pth')\n",
    "            break\n",
    "            \n",
    "    return scores\n",
    "\n",
    "%matplotlib notebook\n",
    "plotter = PlotTool(number_agents=num_agents)\n",
    "scores = ddpg(n_episodes=10000, max_t=300)"
   ]
  }
 ],
 "metadata": {
  "kernelspec": {
   "display_name": "Python 3.7 (RL Spin-up)",
   "language": "python",
   "name": "rl37"
  },
  "language_info": {
   "codemirror_mode": {
    "name": "ipython",
    "version": 3
   },
   "file_extension": ".py",
   "mimetype": "text/x-python",
   "name": "python",
   "nbconvert_exporter": "python",
   "pygments_lexer": "ipython3",
   "version": "3.7.2"
  }
 },
 "nbformat": 4,
 "nbformat_minor": 2
}
